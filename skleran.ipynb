{
 "cells": [
  {
   "cell_type": "markdown",
   "id": "c5c5e426-d591-4769-81e6-844319d67b6d",
   "metadata": {},
   "source": [
    "## 模型使用"
   ]
  },
  {
   "cell_type": "code",
   "execution_count": null,
   "id": "7238fa0f-a0e2-4cee-a2ce-88bb69a41ab1",
   "metadata": {},
   "outputs": [],
   "source": []
  }
 ],
 "metadata": {
  "kernelspec": {
   "display_name": "Python 3 (ipykernel)",
   "language": "python",
   "name": "python3"
  },
  "language_info": {
   "codemirror_mode": {
    "name": "ipython",
    "version": 3
   },
   "file_extension": ".py",
   "mimetype": "text/x-python",
   "name": "python",
   "nbconvert_exporter": "python",
   "pygments_lexer": "ipython3",
   "version": "3.9.12"
  }
 },
 "nbformat": 4,
 "nbformat_minor": 5
}
